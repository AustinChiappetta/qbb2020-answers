{
 "cells": [
  {
   "cell_type": "markdown",
   "metadata": {},
   "source": [
    "#Function for mapping translated identifier"
   ]
  },
  {
   "cell_type": "code",
   "execution_count": 1,
   "metadata": {},
   "outputs": [],
   "source": [
    "def ident_map(file1, file2, arg='NA'):\n",
    "    \n",
    "    #open the files\n",
    "    \n",
    "    translation = open(file1, 'r')\n",
    "    c_tab = open(file2, 'r')\n",
    "    output = open('Users/cmdb/qbb2020-answers/day2-lunch/day2-lunch_exercise_02.out', 'w+')\n",
    "\n",
    "    #make dictionary of translated IDs\n",
    "    translationDict = {}\n",
    "    for line in translation:\n",
    "        translationDict[line[0]] = line[1]\n",
    "        \n",
    "    #look through the c_tab file, find corresponding translation \n",
    "    #from the mapping file. \n",
    "    #If found, it should print the line from the c_tab file, \n",
    "    #replacing the gene_id field with the translated identifier \n",
    "    #(the UniProt ID). \n",
    "    \n",
    "    translated = ''\n",
    "    for line in c_tab:\n",
    "        templine = line.split()\n",
    "        gene_id = templine[-4]\n",
    "        if gene_id in translationDict.keys():\n",
    "            templine[-4] = translationDict[gene_id]\n",
    "            translated += str(templine)\n",
    "            \n",
    "        elif arg == 'NA':\n",
    "            templine[-4] = 'NA'\n",
    "            translated += templine\n",
    "        elif arg == \"ignore\":\n",
    "            continue\n",
    "            \n",
    "    #truncate to first 100 lines\n",
    "    counter = 0\n",
    "    truncated = ''\n",
    "    for line in translated:\n",
    "        if counter < 100:\n",
    "            truncated += line + '\\n'\n",
    "              \n",
    "    output.write(truncated)\n",
    "    \n",
    "    #close the files\n",
    "    translation.close()\n",
    "    c_tab.close()\n",
    "    output.close()\n",
    "                \n",
    "    #If not found, it should do one of two things \n",
    "    #depending on the value of the third argument to your function:\n",
    "\n",
    "    #(1) Print nothing (ignore the line) * This should occur \n",
    "    #when a specific input is given for the third argument to your function\n",
    "    #(2) Print and fill the field with a default value specified \n",
    "    #in the function. * This should occur if the value of the \n",
    "    #third argument is NOT the \"ignore line\" value chosen to ignore the line"
   ]
  },
  {
   "cell_type": "code",
   "execution_count": 2,
   "metadata": {},
   "outputs": [],
   "source": [
    "translation_file = 'Users/cmdb/qbb2020-answers/day2-lunch/day2-lunch_exercise_01.out'    \n",
    "c_tab = 'Users/cmdb/data/results/stringtie/SRR072893/t_data.ctab'\n",
    "\n",
    "ident_map(translation_file, c_tab, 'ignore')"
   ]
  }
 ],
 "metadata": {
  "kernelspec": {
   "display_name": "Python 3",
   "language": "python",
   "name": "python3"
  },
  "language_info": {
   "codemirror_mode": {
    "name": "ipython",
    "version": 3
   },
   "file_extension": ".py",
   "mimetype": "text/x-python",
   "name": "python",
   "nbconvert_exporter": "python",
   "pygments_lexer": "ipython3",
   "version": "3.6.10"
  }
 },
 "nbformat": 4,
 "nbformat_minor": 4
}
