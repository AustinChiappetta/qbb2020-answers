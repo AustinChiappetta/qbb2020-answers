{
 "cells": [
  {
   "cell_type": "markdown",
   "metadata": {},
   "source": [
    "#Open the file and a new file for output"
   ]
  },
  {
   "cell_type": "code",
   "execution_count": 1,
   "metadata": {},
   "outputs": [],
   "source": [
    "flies = open('/Users/cmdb/data/results/fly.txt', 'r')\n",
    "translated_IDs = open('/Users/cmdb/qbb2020-answers/day2-lunch/day2-lunch_exercise_01.out', 'w+')"
   ]
  },
  {
   "cell_type": "markdown",
   "metadata": {},
   "source": [
    "#Get the FlyBase ID and Uniprot ID for each gene"
   ]
  },
  {
   "cell_type": "code",
   "execution_count": 2,
   "metadata": {},
   "outputs": [
    {
     "data": {
      "text/plain": [
       "70031"
      ]
     },
     "execution_count": 2,
     "metadata": {},
     "output_type": "execute_result"
    }
   ],
   "source": [
    "translated = ''\n",
    "for line in flies:\n",
    "    if 'DROME' in line: #disregards header info at top of file\n",
    "        line = line.split()\n",
    "        if 'FBgn' in line[-1]: #checks if there is a FlyBase ID, does nothing if not\n",
    "            translated += line[-1] + '\\t' + line[-2] + '\\n' #stores the FlyBase ID and Uniprot ID\n",
    "        \n",
    "translated_IDs.write(translated) #writes the IDs to the new file"
   ]
  },
  {
   "cell_type": "markdown",
   "metadata": {},
   "source": [
    "#Close the files"
   ]
  },
  {
   "cell_type": "code",
   "execution_count": 3,
   "metadata": {},
   "outputs": [],
   "source": [
    "flies.close()\n",
    "translated_IDs.close()"
   ]
  }
 ],
 "metadata": {
  "kernelspec": {
   "display_name": "Python 3",
   "language": "python",
   "name": "python3"
  },
  "language_info": {
   "codemirror_mode": {
    "name": "ipython",
    "version": 3
   },
   "file_extension": ".py",
   "mimetype": "text/x-python",
   "name": "python",
   "nbconvert_exporter": "python",
   "pygments_lexer": "ipython3",
   "version": "3.6.10"
  }
 },
 "nbformat": 4,
 "nbformat_minor": 4
}
