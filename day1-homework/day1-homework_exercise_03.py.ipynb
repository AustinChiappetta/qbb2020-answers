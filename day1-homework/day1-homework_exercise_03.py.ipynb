{
 "cells": [
  {
   "cell_type": "code",
   "execution_count": null,
   "metadata": {},
   "outputs": [],
   "source": [
    "import sys"
   ]
  },
  {
   "cell_type": "markdown",
   "metadata": {},
   "source": [
    "#Print the chromosome value from the first 10 alignments"
   ]
  },
  {
   "cell_type": "code",
   "execution_count": 6,
   "metadata": {},
   "outputs": [
    {
     "name": "stdout",
     "output_type": "stream",
     "text": [
      "2L\n",
      "2L\n",
      "2L\n",
      "2L\n",
      "2L\n",
      "2L\n",
      "2L\n",
      "2L\n",
      "2L\n",
      "2L\n"
     ]
    }
   ],
   "source": [
    "sam_file = open('/Users/cmdb/data/results/SRR072893.sam', mode='r')\n",
    "output_file = open('day1-homework_exercise_03.out', 'w+')\n",
    "counter = 0\n",
    "ten_chrom = ''\n",
    "for line in sam_file:\n",
    "    fields = line.strip('\\r\\n').split('\\t')\n",
    "    print(fields[2])\n",
    "    ten_chrom += fields[2]+'\\n'\n",
    "    \n",
    "    if counter == 9:\n",
    "        break\n",
    "    counter += 1\n",
    "\n",
    "output_file.write(ten_chrom)\n",
    "\n",
    "sam_file.close()\n",
    "output_file.close()"
   ]
  },
  {
   "cell_type": "code",
   "execution_count": null,
   "metadata": {},
   "outputs": [],
   "source": []
  }
 ],
 "metadata": {
  "kernelspec": {
   "display_name": "Python 3",
   "language": "python",
   "name": "python3"
  },
  "language_info": {
   "codemirror_mode": {
    "name": "ipython",
    "version": 3
   },
   "file_extension": ".py",
   "mimetype": "text/x-python",
   "name": "python",
   "nbconvert_exporter": "python",
   "pygments_lexer": "ipython3",
   "version": "3.6.10"
  }
 },
 "nbformat": 4,
 "nbformat_minor": 4
}
