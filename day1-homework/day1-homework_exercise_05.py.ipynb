{
 "cells": [
  {
   "cell_type": "markdown",
   "metadata": {},
   "source": [
    "#Count number of reads that start their alignment on chromosome 2L between base 10000 and 20000 (inclusive)"
   ]
  },
  {
   "cell_type": "code",
   "execution_count": 2,
   "metadata": {},
   "outputs": [],
   "source": [
    "sam_file = open('/Users/cmdb/data/results/SRR072893.sam', mode='r')\n",
    "output_file = open('day1-homework_exercise_05.out', 'w+')\n",
    "num_reads_in_range = 0\n",
    "\n",
    "for line in sam_file:\n",
    "    fields = line.strip('\\r\\n').split('\\t')\n",
    "    if fields[2] == '2L':\n",
    "        if 10000 <= int(fields[3]) <= 20000:\n",
    "            num_reads_in_range += 1\n",
    "        \n",
    "output_file.write(str(num_reads_in_range))\n",
    "\n",
    "sam_file.close()\n",
    "output_file.close()"
   ]
  },
  {
   "cell_type": "code",
   "execution_count": null,
   "metadata": {},
   "outputs": [],
   "source": []
  }
 ],
 "metadata": {
  "kernelspec": {
   "display_name": "Python 3",
   "language": "python",
   "name": "python3"
  },
  "language_info": {
   "codemirror_mode": {
    "name": "ipython",
    "version": 3
   },
   "file_extension": ".py",
   "mimetype": "text/x-python",
   "name": "python",
   "nbconvert_exporter": "python",
   "pygments_lexer": "ipython3",
   "version": "3.6.10"
  }
 },
 "nbformat": 4,
 "nbformat_minor": 4
}
