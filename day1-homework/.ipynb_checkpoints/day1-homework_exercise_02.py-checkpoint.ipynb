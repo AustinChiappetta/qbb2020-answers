{
 "cells": [
  {
   "cell_type": "code",
   "execution_count": null,
   "metadata": {},
   "outputs": [],
   "source": [
    "import sys"
   ]
  },
  {
   "cell_type": "markdown",
   "metadata": {},
   "source": [
    "#Count the number of perfect alignments"
   ]
  },
  {
   "cell_type": "code",
   "execution_count": 6,
   "metadata": {},
   "outputs": [],
   "source": [
    "sam_file = open('/Users/cmdb/data/results/SRR072893.sam', mode='r')\n",
    "output_file = open('day1-homework_exercise_02.out', 'w+')\n",
    "num_perfect = 0\n",
    "counter = 0\n",
    "for line in sam_file:\n",
    "    fields = line.strip('\\r\\n').split('\\t')\n",
    "    #if counter < 10:\n",
    "        #print(fields)\n",
    "    #counter += 1\n",
    "    if 'NM:i:0' in fields:\n",
    "        num_perfect += 1\n",
    "#print(num_perfect)\n",
    "output_file.write(str(num_perfect))\n",
    "\n",
    "sam_file.close()\n",
    "output_file.close()"
   ]
  },
  {
   "cell_type": "code",
   "execution_count": null,
   "metadata": {},
   "outputs": [],
   "source": []
  }
 ],
 "metadata": {
  "kernelspec": {
   "display_name": "Python 3",
   "language": "python",
   "name": "python3"
  },
  "language_info": {
   "codemirror_mode": {
    "name": "ipython",
    "version": 3
   },
   "file_extension": ".py",
   "mimetype": "text/x-python",
   "name": "python",
   "nbconvert_exporter": "python",
   "pygments_lexer": "ipython3",
   "version": "3.6.10"
  }
 },
 "nbformat": 4,
 "nbformat_minor": 4
}
